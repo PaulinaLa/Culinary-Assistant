{
  "cells": [
    {
      "cell_type": "markdown",
      "metadata": {
        "id": "WUhP-jzR4Rzl"
      },
      "source": [
        "# Colab files inclusion\n"
      ]
    },
    {
      "cell_type": "code",
      "execution_count": null,
      "metadata": {
        "colab": {
          "base_uri": "https://localhost:8080/"
        },
        "id": "W_la5iE2RyiH",
        "outputId": "61f3248b-4b0c-42a2-873e-fb5ac6c9ebd4"
      },
      "outputs": [],
      "source": [
        "!pip install import-ipynb\n",
        "import import_ipynb\n",
        "\n",
        "# Install the PyDrive wrapper & import libraries.\n",
        "# This only needs to be done once per notebook.\n",
        "!pip install -U -q PyDrive\n",
        "from pydrive.auth import GoogleAuth\n",
        "from pydrive.drive import GoogleDrive\n",
        "from google.colab import auth\n",
        "from oauth2client.client import GoogleCredentials\n",
        "\n",
        "# Authenticate and create the PyDrive client.\n",
        "# This only needs to be done once per notebook.\n",
        "auth.authenticate_user()\n",
        "gauth = GoogleAuth()\n",
        "gauth.credentials = GoogleCredentials.get_application_default()\n",
        "drive = GoogleDrive(gauth)"
      ]
    },
    {
      "cell_type": "markdown",
      "metadata": {
        "id": "2SUsamXYBuWp"
      },
      "source": [
        "### Question Answerer Inclusion\n"
      ]
    },
    {
      "cell_type": "code",
      "execution_count": 4,
      "metadata": {
        "id": "hE_rg_JlpTvR"
      },
      "outputs": [],
      "source": [
        "question_answerer_module = drive.CreateFile({\"id\": \"YOUR_QUESTION_ANSWERER_FILE_ID\"})\n",
        "question_answerer_module.GetContentFile(\"question_answerer.ipynb\")\n",
        "import question_answerer\n"
      ]
    },
    {
      "cell_type": "markdown",
      "metadata": {
        "id": "Y0TT0ZqtBpuT"
      },
      "source": [
        "### Sentence Similarity Inclusion"
      ]
    },
    {
      "cell_type": "code",
      "execution_count": null,
      "metadata": {
        "colab": {
          "base_uri": "https://localhost:8080/"
        },
        "id": "gbTxCGb4wlY9",
        "outputId": "4f2cc939-cea8-4c03-a90e-6a90c37295f3"
      },
      "outputs": [],
      "source": [
        "sentence_similarity_module = drive.CreateFile({'id':'YOUR_SENTENCE_SIMILARITY_FILE_ID'})\n",
        "sentence_similarity_module.GetContentFile('sentence_similarity.ipynb')\n",
        "import sentence_similarity"
      ]
    },
    {
      "cell_type": "markdown",
      "metadata": {
        "id": "bvRF9soeBMYz"
      },
      "source": [
        "### Find Recipes Inclusion"
      ]
    },
    {
      "cell_type": "code",
      "execution_count": null,
      "metadata": {
        "colab": {
          "base_uri": "https://localhost:8080/"
        },
        "id": "0uBz-h82A-oc",
        "outputId": "44e8cd73-43b0-4b6c-be38-2785abdbf4b7"
      },
      "outputs": [],
      "source": [
        "find_recipes_module = drive.CreateFile({'id':'YOUR_FIND_RECIPES_FILE_ID'})\n",
        "find_recipes_module.GetContentFile('find_recipes.ipynb')\n",
        "import find_recipes"
      ]
    },
    {
      "cell_type": "markdown",
      "metadata": {
        "id": "PJBtslLWRzYK"
      },
      "source": [
        "# Prerequisites"
      ]
    },
    {
      "cell_type": "code",
      "execution_count": null,
      "metadata": {
        "colab": {
          "base_uri": "https://localhost:8080/"
        },
        "id": "gGE6SuA6ySuV",
        "outputId": "83cb5714-a1f5-49b8-c7f8-40019cf2c207"
      },
      "outputs": [],
      "source": [
        "!pip install discord\n",
        "!pip install python-dotenv\n",
        "!pip install asyncio"
      ]
    },
    {
      "cell_type": "markdown",
      "metadata": {
        "id": "ipHxcJT6aWWt"
      },
      "source": [
        "### Morfeusz"
      ]
    },
    {
      "cell_type": "code",
      "execution_count": 9,
      "metadata": {
        "id": "pvuJUEbSaYO4"
      },
      "outputs": [],
      "source": [
        "import morfeusz2\n",
        "morf = morfeusz2.Morfeusz()"
      ]
    },
    {
      "cell_type": "markdown",
      "metadata": {
        "id": "bFFt0mTL2YiJ"
      },
      "source": [
        "# Imports"
      ]
    },
    {
      "cell_type": "code",
      "execution_count": 10,
      "metadata": {
        "id": "6_4hNzNb4umc"
      },
      "outputs": [],
      "source": [
        "import asyncio\n",
        "import os\n",
        "import re\n",
        "import random\n",
        "import discord\n",
        "from discord import channel\n",
        "from dotenv import load_dotenv\n",
        "from typing import List, Tuple, Union, Any"
      ]
    },
    {
      "cell_type": "markdown",
      "metadata": {
        "id": "F2aCXY9m4zUE"
      },
      "source": [
        "# Source"
      ]
    },
    {
      "cell_type": "markdown",
      "metadata": {
        "id": "LAmnIaDfY67f"
      },
      "source": [
        "## environmental variables"
      ]
    },
    {
      "cell_type": "code",
      "execution_count": 32,
      "metadata": {
        "id": "QClF_kRw49Jr"
      },
      "outputs": [],
      "source": [
        "os.environ[\"DISCORD_TOKEN\"] = \"YOUR_BOT_TOKEN\"\n",
        "\n",
        "load_dotenv()\n",
        "TOKEN = os.getenv(\"DISCORD_TOKEN\")\n",
        "\n",
        "client = discord.Client()\n"
      ]
    },
    {
      "cell_type": "markdown",
      "metadata": {
        "id": "R8jWDkQguMsI"
      },
      "source": [
        "## question_answerer helpers"
      ]
    },
    {
      "cell_type": "code",
      "execution_count": 33,
      "metadata": {
        "id": "aN6OLHgtZ8dd"
      },
      "outputs": [],
      "source": [
        "def is_question(message_input: str) -> bool:\n",
        "    \"\"\"Determine if a message is a question or not.\"\"\"\n",
        "    question_starters = [\n",
        "        \"co\",\n",
        "        \"ile\",\n",
        "        \"dla kogo\",\n",
        "        \"kto\",\n",
        "        \"gdzie\",\n",
        "        \"czy\",\n",
        "        \"jak\",\n",
        "        \"skąd\",\n",
        "        \"po co\",\n",
        "        \"kiedy\",\n",
        "        \"komu\",\n",
        "        \"czym\",\n",
        "        \"czemu\",\n",
        "        \"kogo\",\n",
        "        \"dlaczego\",\n",
        "    ]\n",
        "    return (\n",
        "        message_input.endswith(\"?\")\n",
        "        and message_input.startswith(tuple(question_starters))\n",
        "    ) or message_input.endswith(\"?\")\n"
      ]
    },
    {
      "cell_type": "code",
      "execution_count": 34,
      "metadata": {
        "id": "xpJGOVRiCB53"
      },
      "outputs": [],
      "source": [
        "def take_into_consideration() -> str:\n",
        "    \"\"\"Help with answering questions in more human like way.\"\"\"\n",
        "    wondering_phrases = [\n",
        "        \"Hmmm, niech no pomyślę..\",\n",
        "        \"Daj mi chwilkę, zaraz odpowiem.\",\n",
        "        \"Acha! Takiego pytania się nie spodziewałem. Już sobie przypominam...\",\n",
        "        \"Ciekawe, ciekawe, może to...\",\n",
        "        \"Sekundkę!\",\n",
        "        \"Hmmmmm....\",\n",
        "        \"Chwila!\",\n",
        "        \"Trudne pytanie, muszę sprawdzić encyklopedię.\",\n",
        "        \"Hmm\",\n",
        "    ]\n",
        "    return random.choice(wondering_phrases)\n"
      ]
    },
    {
      "cell_type": "code",
      "execution_count": 35,
      "metadata": {
        "id": "IKMVO5WT473m"
      },
      "outputs": [],
      "source": [
        "def more_human_like_answer(answer: str) -> str:\n",
        "    \"\"\"Prettify answer returned by question answerer to act like a human.\"\"\"\n",
        "    answer = answer.split(\" \")\n",
        "    prettifiers = {\n",
        "        \"result_phrases\": [\n",
        "            \"\",\n",
        "            \"\",\n",
        "            \"\",\n",
        "            \"\",\n",
        "            \"Zdaje się, że to \",\n",
        "            \"Wydaje mi się, że to \",\n",
        "            \"Nie jestem do końca pewien, ale czy to \",\n",
        "            \"Stawiam, że to \",\n",
        "            \"Czy mam rację i to \",\n",
        "            \"Hmmm, może to \",\n",
        "            \"Jestem prawie pewien, że to \",\n",
        "        ],\n",
        "        \"ending_phrases\": [\n",
        "            \".\",\n",
        "            \".\",\n",
        "            \".\",\n",
        "            \".\",\n",
        "            \".\",\n",
        "            \". To było oczywiste!\",\n",
        "            \". Wiadomo!\",\n",
        "            \". Mam rację?\",\n",
        "            \". Mamma mia! To było trudne.\",\n",
        "        ],\n",
        "    }\n",
        "    if len(answer) == 1:\n",
        "        end_or_begining = random.choice(list(prettifiers.keys()))\n",
        "        if end_or_begining == \"result_phrases\":\n",
        "            return random.choice(prettifiers[\"result_phrases\"]) + \" \".join(answer)\n",
        "        return \" \".join(answer) + random.choice(prettifiers[\"ending_phrases\"])\n",
        "    answer = \" \".join(answer)\n",
        "    answer = answer.capitalize()\n",
        "    return answer + random.choice(prettifiers[\"ending_phrases\"])\n"
      ]
    },
    {
      "cell_type": "code",
      "execution_count": 36,
      "metadata": {
        "id": "SjuTaCFRumRo"
      },
      "outputs": [],
      "source": [
        "def answer_the_question(\n",
        "    question: str,\n",
        "    times_of_execution: int = 1,\n",
        ") -> str:\n",
        "    \"\"\"Answer the question depending on time of execution.\"\"\"\n",
        "    return (\n",
        "        take_into_consideration()\n",
        "        if times_of_execution == 0\n",
        "        else more_human_like_answer(question_answerer.find_answer(question))\n",
        "    )\n"
      ]
    },
    {
      "cell_type": "markdown",
      "metadata": {
        "id": "kCRsZ81xaY6S"
      },
      "source": [
        "## utilities"
      ]
    },
    {
      "cell_type": "markdown",
      "metadata": {
        "id": "bUty2ZgGyywL"
      },
      "source": [
        "### finding_subjects and verbs"
      ]
    },
    {
      "cell_type": "code",
      "execution_count": 37,
      "metadata": {
        "id": "X4MYS-UHaJg0"
      },
      "outputs": [],
      "source": [
        "def find_all_subjects_and_verbs(sentence: str) -> Tuple[List[str], List[str], bool]:\n",
        "    \"\"\"Find all subjects and verbs in a sentence\"\"\"\n",
        "    analysis = morf.analyse(sentence)\n",
        "    subjects = set()\n",
        "    verbs = set()\n",
        "    is_sec_sig = False\n",
        "    verbs_tags = [\n",
        "        \"verb\",\n",
        "        \"refl\",\n",
        "        \"nonrefl\",\n",
        "        \"perf\",\n",
        "        \"imperf\",\n",
        "        \"imperf.perf\",\n",
        "        \"praet\",\n",
        "        \"inf\",\n",
        "        \"fin\",\n",
        "    ]\n",
        "    for i, j, interp in analysis:\n",
        "        word_tags = interp[2].split(\":\")\n",
        "        first_tag = word_tags[0]\n",
        "        if first_tag == \"subst\":\n",
        "            subjects.add(interp[0])\n",
        "        elif first_tag in verbs_tags:\n",
        "            verbs.add(interp[0])\n",
        "        if \"sg\" in word_tags and \"sec\" in word_tags:\n",
        "            is_sec_sig = True\n",
        "    return list(subjects), list(verbs), is_sec_sig\n"
      ]
    },
    {
      "cell_type": "markdown",
      "metadata": {
        "id": "e8_316__aZUC"
      },
      "source": [
        "### greet handling"
      ]
    },
    {
      "cell_type": "code",
      "execution_count": 38,
      "metadata": {
        "id": "sMM2MiJw8O3K"
      },
      "outputs": [],
      "source": [
        "powitania = [\n",
        "    \"cześć\",\n",
        "    \"hej\",\n",
        "    \"witam\",\n",
        "    \"siemka\",\n",
        "    \"dzień dobry\",\n",
        "    \"elo\",\n",
        "    \"siemano\",\n",
        "    \"Hejka naklejka\",\n",
        "    \"Siemano, uważaj na kolano\",\n",
        "    \"Uszanowanie, poproszę o jedno pytanie\",\n",
        "    \"Elo Pomelo\",\n",
        "    \"Serdecznie witam i szybko czytam\",\n",
        "    \"Siemaneczko prawilna mordeczko\",\n",
        "]\n",
        "\n",
        "\n",
        "def is_greeting(message_input: str) -> bool:\n",
        "    \"\"\"Determine if a message is a greeting.\"\"\"\n",
        "    return message_input.startswith(tuple(powitania))\n",
        "\n",
        "\n",
        "def greet() -> str:\n",
        "    \"\"\"A function to greet the user.\"\"\"\n",
        "    return (random.choice(powitania)).capitalize()\n",
        "\n",
        "\n",
        "def process_greeting(input_message: str, is_sec_sig: bool, words: List[str]) -> str:\n",
        "    \"\"\"Process users greeting to greet him back.\"\"\"\n",
        "    input_splitted = input_message.split()\n",
        "    if len(input_splitted) > 1:\n",
        "        rest_of_message = \" \".join(input_splitted[1:])\n",
        "        if discern_personal_messages(rest_of_message):\n",
        "            return discern_personal_messages(rest_of_message)\n",
        "        if not is_sec_sig and is_question(rest_of_message):\n",
        "            return greet() + \". \" + answer_the_question(rest_of_message)\n",
        "        else:\n",
        "            return (\n",
        "                greet()\n",
        "                + \". \"\n",
        "                + (\n",
        "                    sentence_similarity.generate_answer(\" \".join(input_splitted[1:]))\n",
        "                ).capitalize()\n",
        "            )\n",
        "    else:\n",
        "        return greet()\n"
      ]
    },
    {
      "cell_type": "markdown",
      "metadata": {
        "id": "JVcbliO7amIC"
      },
      "source": [
        "### tokenizing"
      ]
    },
    {
      "cell_type": "code",
      "execution_count": 39,
      "metadata": {
        "id": "gvjd2ShXHI28"
      },
      "outputs": [],
      "source": [
        "polish_signs_replacements = {\n",
        "    \"ą\": \"a\",\n",
        "    \"ć\": \"c\",\n",
        "    \"ę\": \"e\",\n",
        "    \"ł\": \"l\",\n",
        "    \"ń\": \"n\",\n",
        "    \"ó\": \"o\",\n",
        "    \"ś\": \"s\",\n",
        "    \"ź\": \"z\",\n",
        "    \"ż\": \"z\",\n",
        "}\n",
        "\n",
        "\n",
        "def tokenize_word(word: str) -> str:\n",
        "    \"\"\"Take word and replace polish signs with letters easy to replace them.\n",
        "    Eq.: ą -> a, ę -> e\n",
        "    \"\"\"\n",
        "    for polish_letter in polish_signs_replacements.keys():\n",
        "        if polish_letter in word:\n",
        "            word = word.replace(polish_letter, polish_signs_replacements[polish_letter])\n",
        "    return word\n",
        "\n",
        "\n",
        "def tokenize(message: str) -> str:\n",
        "    \"\"\"Take message and tokenize it to get rid of polish signs.\"\"\"\n",
        "    text = message.lower()\n",
        "    pattern = r\"\\s*\\w*\\s*\"\n",
        "    result = re.findall(pattern, text)\n",
        "    tokenized_words = [tokenize_word(word) for word in result]\n",
        "    return \"\".join(tokenized_words)\n"
      ]
    },
    {
      "cell_type": "markdown",
      "metadata": {
        "id": "7k0EKGZxnqfK"
      },
      "source": [
        "### personal information"
      ]
    },
    {
      "cell_type": "code",
      "execution_count": 40,
      "metadata": {
        "id": "V7KR61lew2zO"
      },
      "outputs": [],
      "source": [
        "personal_data = {\n",
        "    \"imię\": \"Panda\",\n",
        "    \"nazwisko\": \"Gruba\",\n",
        "    \"wiek\": \"23\",\n",
        "    \"ulubione_potrawy\": [\"lasagne\", \"spaghetti\", \"pizza\"],\n",
        "}\n",
        "\n",
        "\n",
        "def discern_personal_messages(input_msg: str) -> Union[str, List[Any]]:\n",
        "    \"\"\"Answer personal question with hard-coded answers to avoid changing personality.\"\"\"\n",
        "    personal_pronouns = [\"ty\", \"toba\", \"tobie\", \"ci\", \"ciebie\", \"cie\", \"twjj\"]\n",
        "    input_msg = tokenize(input_msg)\n",
        "    if \"co tam\" in input_msg or \"co slychac\" in input_msg:\n",
        "        return \"U mnie spoko, a u Ciebie?\"\n",
        "    if \"jak masz na\" in input_msg:\n",
        "        return (\n",
        "            \"Nazywam się \"\n",
        "            + personal_data[\"nazwisko\"]\n",
        "            + \" \"\n",
        "            + personal_data[\"imię\"]\n",
        "            + \". \"\n",
        "        )\n",
        "    if \"lubisz jesc\" in input_msg or \"ulubion\" in input_msg:\n",
        "        return \"Moim ulubionym daniem jest \" + random.choice(\n",
        "            personal_data[\"ulubione_potrawy\"]\n",
        "        )\n",
        "    if \"ile masz lat\" in input_msg:\n",
        "        return \"Mam \" + personal_data[\"wiek\"] + \"lata.\"\n",
        "    return []\n"
      ]
    },
    {
      "cell_type": "markdown",
      "metadata": {
        "id": "hKuttlnxZEjc"
      },
      "source": [
        "## discord async methods"
      ]
    },
    {
      "cell_type": "markdown",
      "metadata": {
        "id": "-toIYxAdZK5I"
      },
      "source": [
        "### on ready async method"
      ]
    },
    {
      "cell_type": "code",
      "execution_count": 41,
      "metadata": {
        "id": "PNTOS35O5Pm2"
      },
      "outputs": [],
      "source": [
        "@client.event\n",
        "async def on_ready():\n",
        "    print(f\"{client.user} dołączył do naszego grona na Discordzie!\")\n"
      ]
    },
    {
      "cell_type": "markdown",
      "metadata": {
        "id": "JguUDwR8ZQ2W"
      },
      "source": [
        "### on member join async method"
      ]
    },
    {
      "cell_type": "code",
      "execution_count": 42,
      "metadata": {
        "id": "9y8w984S5tNj"
      },
      "outputs": [],
      "source": [
        "@client.event\n",
        "async def on_member_join(member):\n",
        "    await member.create_dm()\n",
        "    await member.dm_channel.send(f\"Siemaneczko {member.name}, witaj na moim terenie!\")\n"
      ]
    },
    {
      "cell_type": "markdown",
      "metadata": {
        "id": "puhzgGK9aFYA"
      },
      "source": [
        "### killing session\n",
        "\n",
        "it is vital since more sessions causes duplications of the same bots and they all answer.\n"
      ]
    },
    {
      "cell_type": "code",
      "execution_count": 43,
      "metadata": {
        "id": "ZrxltcXK-1m_"
      },
      "outputs": [],
      "source": [
        "def kill_bot():\n",
        "    client.loop.run_until_complete(client.logout())\n",
        "    for task in asyncio.all_tasks(loop=client.loop):\n",
        "        if task.done():\n",
        "            task.exception()\n",
        "            continue\n",
        "        task.cancel()\n",
        "        try:\n",
        "            client.loop.run_until_complete(asyncio.wait_for(task, 5, loop=client.loop))\n",
        "            task.exception()\n",
        "        except (\n",
        "            asyncio.InvalidStateError,\n",
        "            asyncio.TimeoutError,\n",
        "            asyncio.CancelledError,\n",
        "        ):\n",
        "            pass\n"
      ]
    },
    {
      "cell_type": "markdown",
      "metadata": {
        "id": "nMSrpVDJaIRd"
      },
      "source": [
        "### State handling"
      ]
    },
    {
      "cell_type": "markdown",
      "metadata": {
        "id": "3PLmidzxcjDn"
      },
      "source": [
        "#### State predicates"
      ]
    },
    {
      "cell_type": "code",
      "execution_count": 44,
      "metadata": {
        "id": "mRfzp-OphFOA"
      },
      "outputs": [],
      "source": [
        "def is_culinary_state(msg: str, last_message: str) -> bool:\n",
        "    \"\"\"Determine whether to switch state to culinary.\"\"\"\n",
        "    meal_synonyms = [\"potrawa\", \"danie\", \"wyżerka\", \"jadło\", \"pożywienie\", \"prowiant\"]\n",
        "    meals = [\n",
        "        \"kolację\",\n",
        "        \"obiad\",\n",
        "        \"śniadanie\",\n",
        "        \"podwieczorek\",\n",
        "        \"lunch\",\n",
        "        \"przekąskę\",\n",
        "        \"drugie śniadanie\",\n",
        "        \"brunch\",\n",
        "    ]\n",
        "    co_na_phrases = [\"co na \" + meal for meal in meals]\n",
        "    culinary_phrases = [\"mam w lodówce\", \"podaj mi przepis na\"] + co_na_phrases\n",
        "    if last_message == \"pytanie_o_składniki\":\n",
        "        return True\n",
        "    if any(culinary_phrase in msg for culinary_phrase in culinary_phrases):\n",
        "        return True\n",
        "    if \"przepis\" in msg:\n",
        "        return True\n",
        "    if any(meal_synonym in msg for meal_synonym in meal_synonyms):\n",
        "        return True\n",
        "    return False\n"
      ]
    },
    {
      "cell_type": "code",
      "execution_count": 45,
      "metadata": {
        "id": "epRS_C4KhI_C"
      },
      "outputs": [],
      "source": [
        "def is_about_to_die(msg: str) -> bool:\n",
        "    \"\"\"Determine whether to switch state to dead.\"\"\"\n",
        "    if msg == \"nadszedł czas by umierać\" or msg == \"kill\":\n",
        "        return True\n",
        "    return False\n"
      ]
    },
    {
      "cell_type": "code",
      "execution_count": 46,
      "metadata": {
        "id": "sUJ6uO6thNm7"
      },
      "outputs": [],
      "source": [
        "def is_about_state(msg: str) -> bool:\n",
        "    \"\"\"Determine whether to switch state to about.\"\"\"\n",
        "    chatbot_terms = [\n",
        "        \"chatbot\",\n",
        "        \"czatbot\",\n",
        "        \"chat bot\",\n",
        "        \"agent konwersacyjny\",\n",
        "        \"program komputerowy\",\n",
        "        \"chatterbot\",\n",
        "        \"program konwersacyjny\",\n",
        "    ]\n",
        "    questions_about = [\"powiedz mi coś o sobie\", \"kto cię stworzył?\", \"czym ty jesteś?\"]\n",
        "    return (\n",
        "        True\n",
        "        if any(chatbot_term in msg for chatbot_term in chatbot_terms)\n",
        "        or msg == any(questions_about)\n",
        "        else False\n",
        "    )\n"
      ]
    },
    {
      "cell_type": "markdown",
      "metadata": {
        "id": "bcqPv5UGcve3"
      },
      "source": [
        "#### Determining state"
      ]
    },
    {
      "cell_type": "code",
      "execution_count": 47,
      "metadata": {
        "id": "3uCrThoWmTAR"
      },
      "outputs": [],
      "source": [
        "def determine_state(msg: str, last_message: str) -> None:\n",
        "    \"\"\"Determine the chatbots state basing on users behavior\"\"\"\n",
        "    global state\n",
        "    if is_culinary_state(msg, last_message):\n",
        "        state = \"culinary\"\n",
        "    elif is_about_to_die(msg):\n",
        "        state = \"dead\"\n",
        "    elif is_about_state(msg):\n",
        "        state = \"about\"\n",
        "    else:\n",
        "        state = \"usual_conversation\"\n"
      ]
    },
    {
      "cell_type": "markdown",
      "metadata": {
        "id": "NqcHnxemczC7"
      },
      "source": [
        "#### Handling state behaviour\n"
      ]
    },
    {
      "cell_type": "code",
      "execution_count": 48,
      "metadata": {
        "id": "_ZUWvJKuNZIo"
      },
      "outputs": [],
      "source": [
        "def handle_culinary_state(ingredients: List[str], times_of_execution: int) -> str:\n",
        "    \"\"\"Handle answering during being in culinary state.\"\"\"\n",
        "    encourage_phrases = [\n",
        "        \"Mamma mia!\",\n",
        "        \"Va bene!\",\n",
        "        \"Już przeszukuję księgi!\",\n",
        "        \"Zaraz coś wymyślę...\",\n",
        "        \"Zabieram się do pracy!\",\n",
        "        \"Muszę zapytać mojego kuchcika, sekunda!\",\n",
        "        \"Daj mi chwilkę, a będzie palce lizać!\",\n",
        "        \"Noo, ja bym zrobił na przykład: \",\n",
        "        \"Gdybym to ja przygotowywał danie z podanych składników to wybrałbym chyba ten przepis: \",\n",
        "        \"Może to bardzo łatwe, ale na pewno będzie smakować: \",\n",
        "        \"A pomyślałeś może o tym przepisie?\",\n",
        "        \"A co powiesz na to: \",\n",
        "        \"Hmmmmm...\",\n",
        "    ]\n",
        "    ending_phrases = [\n",
        "        \"Mam nadzieję, że będzie smakować!\",\n",
        "        \"Smacznego!\",\n",
        "        \"Bon Appetit!\",\n",
        "        \"Daj mi znać jak poszło.\",\n",
        "        \"Buon appetito!\",\n",
        "        \"Koniecznie mi powiedz czy wyszło!\",\n",
        "        \"Aż samemu chce się gotować!\",\n",
        "        \"Chyba sam też spróbuję się za to wziąć.\",\n",
        "        \"Wygląda ciekawie, hmmm, może będzie równie apetyczne!\",\n",
        "        \"Oby apetyt dopisał!\",\n",
        "        \"Życzę dużo przyjemności z gotowania!\",\n",
        "        \"Pamiętaj proszę o umyciu rąk zanim zaczniesz gotować!\",\n",
        "        \"Nadchodzi pyszność! Czuję to w kościach!\",\n",
        "        \"Trzymam kciuki!\",\n",
        "    ]\n",
        "    if times_of_execution == 0:\n",
        "        return random.choice(encourage_phrases)\n",
        "    elif times_of_execution == 1:\n",
        "        ingredients = (\", \").join(ingredients)\n",
        "        return find_recipes.find_best_recipe(ingredients)\n",
        "    return random.choice(ending_phrases)\n"
      ]
    },
    {
      "cell_type": "code",
      "execution_count": 49,
      "metadata": {
        "id": "QHV8kB7VX5Aq"
      },
      "outputs": [],
      "source": [
        "def handle_about_state() -> str:\n",
        "    \"\"\"Tell basic information about creation.\"\"\"\n",
        "    basic_information = \"\"\"Jestem botem konwersującym stworzonym na potrzeby\n",
        "     pracy inżynierskiej Pauliny Landkocz i Zofii Kochutek w roku 2021. \n",
        "     Być może nie jestem jeszcze najlepszą możliwą wersją siebie, \n",
        "     ale zapewniam, że dziewczyny ciężko pracują, abym się nią stał.\"\"\"\n",
        "    return basic_information\n"
      ]
    },
    {
      "cell_type": "markdown",
      "metadata": {
        "id": "Cc6ozDjanw-X"
      },
      "source": [
        "### on message async method\n"
      ]
    },
    {
      "cell_type": "code",
      "execution_count": 51,
      "metadata": {
        "id": "uoYTc57j1zqQ"
      },
      "outputs": [],
      "source": [
        "last_message = \"\"\n",
        "state = \"usual_conversation\"\n",
        "usual_conversation_transitions = [\"usual_conversation\", \"culinary\", \"about\", \"dead\"]\n",
        "culinary_transitions = [\"culinary\", \"usual_converation\", \"about\", \"dead\"]\n",
        "about_transitions = [\"usual_conversation\", \"culinary\", \"dead\"]\n",
        "\n",
        "\n",
        "@client.event\n",
        "async def on_message(message):\n",
        "    global state\n",
        "    global last_message\n",
        "\n",
        "    if (\n",
        "        message.author == client.user\n",
        "    ):  # checking if the author of the message is the bot\n",
        "        return\n",
        "    input_message = message.content.lower()\n",
        "    subjects_in_input, verbs_in_input, is_sec_sig = find_all_subjects_and_verbs(\n",
        "        input_message\n",
        "    )\n",
        "    important_words = subjects_in_input + verbs_in_input\n",
        "    determine_state(input_message, last_message)\n",
        "    if state == \"usual_conversation\":\n",
        "        last_message = \"usual_conversation\"\n",
        "        if is_greeting(input_message):\n",
        "            await message.channel.send(\n",
        "                process_greeting(input_message, is_sec_sig, important_words)\n",
        "            )\n",
        "        elif discern_personal_messages(input_message):\n",
        "            await message.channel.send(discern_personal_messages(input_message))\n",
        "        elif is_question(input_message):\n",
        "            if is_sec_sig:\n",
        "                await message.channel.send(\n",
        "                    (sentence_similarity.generate_answer(input_message)).capitalize()\n",
        "                )\n",
        "            else:\n",
        "                for i in range(2):\n",
        "                    await message.channel.send(answer_the_question(input_message, i))\n",
        "        else:\n",
        "            await message.channel.send(\n",
        "                sentence_similarity.similarity_by_embeddings(\n",
        "                    input_message, important_words\n",
        "                )\n",
        "            )\n",
        "\n",
        "    elif state == \"culinary\":\n",
        "        ingredients_msg = (\n",
        "            \"Od teraz rozmawiamy jak kucharz z kucharzem. Proszę podać składniki.\"\n",
        "        )\n",
        "        if last_message == \"pytanie_o_składniki\":\n",
        "            last_message = \"po_przepisie\"\n",
        "            for i in range(3):\n",
        "                msg = handle_culinary_state(subjects_in_input, i)\n",
        "                await message.channel.send(msg)\n",
        "        else:\n",
        "            last_message = \"pytanie_o_składniki\"\n",
        "            await message.channel.send(ingredients_msg)\n",
        "\n",
        "    elif state == \"dead\":\n",
        "        last_message = \"\"\n",
        "        await message.channel.send(\n",
        "            \"Na mnie chyba już pora, jak wiadomo boty idą do nieba.\"\n",
        "        )\n",
        "        print(\"Terminating\")\n",
        "        raise SystemExit\n",
        "\n",
        "    elif state == \"about\":\n",
        "        last_message = \"about\"\n",
        "        await message.channel.send(handle_about_state())\n"
      ]
    },
    {
      "cell_type": "markdown",
      "metadata": {
        "id": "ucWTV6-Pn1aj"
      },
      "source": [
        "## starting bot"
      ]
    },
    {
      "cell_type": "code",
      "execution_count": 52,
      "metadata": {
        "id": "aFYtcGRx_kA4"
      },
      "outputs": [],
      "source": [
        "def run_bot():\n",
        "    try:\n",
        "        asyncio.get_event_loop().create_task(client.start(TOKEN))\n",
        "    except SystemExit:\n",
        "        kill_bot()\n",
        "\n",
        "\n",
        "run_bot()\n"
      ]
    }
  ],
  "metadata": {
    "colab": {
      "collapsed_sections": [],
      "name": "discord_communicator.ipynb",
      "provenance": []
    },
    "kernelspec": {
      "display_name": "Python 3.10.5 64-bit (windows store)",
      "language": "python",
      "name": "python3"
    },
    "language_info": {
      "name": "python",
      "version": "3.10.5"
    },
    "vscode": {
      "interpreter": {
        "hash": "2d88b3436f126e5ca958fe744d6b1733d9ae2d76f94be1319c644c47ba23c26f"
      }
    }
  },
  "nbformat": 4,
  "nbformat_minor": 0
}
